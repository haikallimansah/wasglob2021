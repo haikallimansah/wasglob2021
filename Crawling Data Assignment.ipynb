{
 "cells": [
  {
   "cell_type": "code",
   "execution_count": 1,
   "metadata": {},
   "outputs": [],
   "source": [
    "import tweepy\n",
    "import webbrowser\n",
    "import time\n",
    "import datetime\n",
    "import pandas as pd"
   ]
  },
  {
   "cell_type": "code",
   "execution_count": 2,
   "metadata": {},
   "outputs": [],
   "source": [
    "access_token=\"1363263843032461312-uTg8SeWZmXYCH97Mgnr7WW4PhFWIfk\"\n",
    "access_token_secret=\"JG8VVRgQ0bNuiwzFpAfDfGkK3hjevphS3Z1sRdC6FeYlj\"\n",
    "api_key= \"uiVDtdFYASzpgRfSr40IZTHD6\"\n",
    "api_key_secret=\"jUAEGwfNvcvpJ7Mhv2osCIq7if787lactz0tJDiiIGgot0qabu\"\n",
    "\n",
    "auth = tweepy.OAuthHandler(api_key,api_key_secret)\n",
    "auth.set_access_token(access_token, access_token_secret)\n",
    "api = tweepy.API(auth,wait_on_rate_limit=True)\n"
   ]
  },
  {
   "cell_type": "code",
   "execution_count": 3,
   "metadata": {},
   "outputs": [
    {
     "data": {
      "text/plain": [
       "User(_api=<tweepy.api.API object at 0x0000020279E53F88>, _json={'id': 1054890378, 'id_str': '1054890378', 'name': 'Ryannn', 'screen_name': 'dendengnenek', 'location': 'North Sumatra, Indonesia', 'profile_location': {'id': '80ec2e96d2800cf2', 'url': 'https://api.twitter.com/1.1/geo/id/80ec2e96d2800cf2.json', 'place_type': 'unknown', 'name': 'North Sumatra, Indonesia', 'full_name': 'North Sumatra, Indonesia', 'country_code': '', 'country': '', 'contained_within': [], 'bounding_box': None, 'attributes': {}}, 'description': 'Apa carik?', 'url': 'https://t.co/ucqeMgbWu1', 'entities': {'url': {'urls': [{'url': 'https://t.co/ucqeMgbWu1', 'expanded_url': 'https://www.instagram.com/dendengnenek/', 'display_url': 'instagram.com/dendengnenek/', 'indices': [0, 23]}]}, 'description': {'urls': []}}, 'protected': False, 'followers_count': 172, 'friends_count': 110, 'listed_count': 0, 'created_at': 'Wed Jan 02 11:50:18 +0000 2013', 'favourites_count': 116, 'utc_offset': None, 'time_zone': None, 'geo_enabled': True, 'verified': False, 'statuses_count': 1155, 'lang': None, 'status': {'created_at': 'Mon Oct 05 08:12:58 +0000 2020', 'id': 1313029399537573890, 'id_str': '1313029399537573890', 'text': 'Mandi hujan yuk', 'truncated': False, 'entities': {'hashtags': [], 'symbols': [], 'user_mentions': [], 'urls': []}, 'source': '<a href=\"https://mobile.twitter.com\" rel=\"nofollow\">Twitter Web App</a>', 'in_reply_to_status_id': None, 'in_reply_to_status_id_str': None, 'in_reply_to_user_id': None, 'in_reply_to_user_id_str': None, 'in_reply_to_screen_name': None, 'geo': None, 'coordinates': None, 'place': None, 'contributors': None, 'is_quote_status': False, 'retweet_count': 0, 'favorite_count': 0, 'favorited': False, 'retweeted': False, 'lang': 'in'}, 'contributors_enabled': False, 'is_translator': False, 'is_translation_enabled': False, 'profile_background_color': '000000', 'profile_background_image_url': 'http://abs.twimg.com/images/themes/theme1/bg.png', 'profile_background_image_url_https': 'https://abs.twimg.com/images/themes/theme1/bg.png', 'profile_background_tile': False, 'profile_image_url': 'http://pbs.twimg.com/profile_images/1146533414935285760/OaGDUjnO_normal.jpg', 'profile_image_url_https': 'https://pbs.twimg.com/profile_images/1146533414935285760/OaGDUjnO_normal.jpg', 'profile_banner_url': 'https://pbs.twimg.com/profile_banners/1054890378/1453652023', 'profile_link_color': '89C9FA', 'profile_sidebar_border_color': '000000', 'profile_sidebar_fill_color': '000000', 'profile_text_color': '000000', 'profile_use_background_image': False, 'has_extended_profile': True, 'default_profile': False, 'default_profile_image': False, 'following': False, 'follow_request_sent': False, 'notifications': False, 'translator_type': 'none'}, id=1054890378, id_str='1054890378', name='Ryannn', screen_name='dendengnenek', location='North Sumatra, Indonesia', profile_location={'id': '80ec2e96d2800cf2', 'url': 'https://api.twitter.com/1.1/geo/id/80ec2e96d2800cf2.json', 'place_type': 'unknown', 'name': 'North Sumatra, Indonesia', 'full_name': 'North Sumatra, Indonesia', 'country_code': '', 'country': '', 'contained_within': [], 'bounding_box': None, 'attributes': {}}, description='Apa carik?', url='https://t.co/ucqeMgbWu1', entities={'url': {'urls': [{'url': 'https://t.co/ucqeMgbWu1', 'expanded_url': 'https://www.instagram.com/dendengnenek/', 'display_url': 'instagram.com/dendengnenek/', 'indices': [0, 23]}]}, 'description': {'urls': []}}, protected=False, followers_count=172, friends_count=110, listed_count=0, created_at=datetime.datetime(2013, 1, 2, 11, 50, 18), favourites_count=116, utc_offset=None, time_zone=None, geo_enabled=True, verified=False, statuses_count=1155, lang=None, status=Status(_api=<tweepy.api.API object at 0x0000020279E53F88>, _json={'created_at': 'Mon Oct 05 08:12:58 +0000 2020', 'id': 1313029399537573890, 'id_str': '1313029399537573890', 'text': 'Mandi hujan yuk', 'truncated': False, 'entities': {'hashtags': [], 'symbols': [], 'user_mentions': [], 'urls': []}, 'source': '<a href=\"https://mobile.twitter.com\" rel=\"nofollow\">Twitter Web App</a>', 'in_reply_to_status_id': None, 'in_reply_to_status_id_str': None, 'in_reply_to_user_id': None, 'in_reply_to_user_id_str': None, 'in_reply_to_screen_name': None, 'geo': None, 'coordinates': None, 'place': None, 'contributors': None, 'is_quote_status': False, 'retweet_count': 0, 'favorite_count': 0, 'favorited': False, 'retweeted': False, 'lang': 'in'}, created_at=datetime.datetime(2020, 10, 5, 8, 12, 58), id=1313029399537573890, id_str='1313029399537573890', text='Mandi hujan yuk', truncated=False, entities={'hashtags': [], 'symbols': [], 'user_mentions': [], 'urls': []}, source='Twitter Web App', source_url='https://mobile.twitter.com', in_reply_to_status_id=None, in_reply_to_status_id_str=None, in_reply_to_user_id=None, in_reply_to_user_id_str=None, in_reply_to_screen_name=None, geo=None, coordinates=None, place=None, contributors=None, is_quote_status=False, retweet_count=0, favorite_count=0, favorited=False, retweeted=False, lang='in'), contributors_enabled=False, is_translator=False, is_translation_enabled=False, profile_background_color='000000', profile_background_image_url='http://abs.twimg.com/images/themes/theme1/bg.png', profile_background_image_url_https='https://abs.twimg.com/images/themes/theme1/bg.png', profile_background_tile=False, profile_image_url='http://pbs.twimg.com/profile_images/1146533414935285760/OaGDUjnO_normal.jpg', profile_image_url_https='https://pbs.twimg.com/profile_images/1146533414935285760/OaGDUjnO_normal.jpg', profile_banner_url='https://pbs.twimg.com/profile_banners/1054890378/1453652023', profile_link_color='89C9FA', profile_sidebar_border_color='000000', profile_sidebar_fill_color='000000', profile_text_color='000000', profile_use_background_image=False, has_extended_profile=True, default_profile=False, default_profile_image=False, following=False, follow_request_sent=False, notifications=False, translator_type='none')"
      ]
     },
     "execution_count": 3,
     "metadata": {},
     "output_type": "execute_result"
    }
   ],
   "source": [
    "api.get_user(\"dendengnenek\")"
   ]
  },
  {
   "cell_type": "code",
   "execution_count": 4,
   "metadata": {},
   "outputs": [
    {
     "name": "stdout",
     "output_type": "stream",
     "text": [
      "0 Mandi hujan yuk\n",
      "1 RT @jayakabajay: Impostornya terciduk... https://t.co/HCFMEu5szJ\n",
      "2 Punya keluarga kok kayak gak berkeluarga, FUCK!\n",
      "3 RT @AAAAAAGGHHHH: https://t.co/144ZSqG2yn\n",
      "4 @Cir_Ricky Joss\n",
      "5 @bmgrnn Kenapa wak?\n",
      "6 @pepsky7 Kebalik ama gua pep\n",
      "7 RT @KompasTV: [VIDEO] PSMS Tunjuk Jafri Sastra Sebagai Pelatih Baru https://t.co/FZL3mxN1QH https://t.co/XVcRmEfsyK\n",
      "8 @shaufiqalbiina Uwess cuk\n",
      "9 @getyouthemo0n hbd asu\n"
     ]
    }
   ],
   "source": [
    "target = \"dendengnenek\"\n",
    "for i, status in enumerate(tweepy.Cursor(api.user_timeline, screen_name=target).items(10)):\n",
    "    print(i, status.text)"
   ]
  },
  {
   "cell_type": "code",
   "execution_count": 5,
   "metadata": {},
   "outputs": [
    {
     "name": "stdout",
     "output_type": "stream",
     "text": [
      "0 1032961592550252545\n",
      "1 1268746188\n",
      "2 781724455\n",
      "3 1252243720147054595\n",
      "4 823038423900438529\n",
      "5 1186575840475144192\n",
      "6 2615514164\n",
      "7 2920561543\n",
      "8 798041232\n",
      "9 1412431202\n"
     ]
    }
   ],
   "source": [
    "network = []\n",
    "for i, _id in enumerate(tweepy.Cursor(api.friends_ids, screen_name=target).items(10)):\n",
    "    print(i, _id)\n",
    "    network.append(_id)"
   ]
  },
  {
   "cell_type": "code",
   "execution_count": 6,
   "metadata": {},
   "outputs": [],
   "source": [
    "a=[]\n",
    "b=[]\n",
    "c=[]\n",
    "d=[]\n",
    "e=[]\n",
    "f=[]\n",
    "g=[]\n",
    "h=[]\n",
    "ratatweet=[]\n",
    "ratalike=[]\n",
    "name=[]\n",
    "\n",
    "kolom=[\"Username\", \"Total_of_tweets\", \"No_of_followers\", \"No_of_followees\", \"Age_of_user\", \"No_of_favorite\", \n",
    "       \"No_groups_user\", \"Aver_favou_per_day\",\"Aver_tweets_per_day\", \"User_name_len\", \"Verified\"]"
   ]
  },
  {
   "cell_type": "code",
   "execution_count": 7,
   "metadata": {},
   "outputs": [],
   "source": [
    "for data in network:\n",
    "    x = api.get_user(data)\n",
    "    \n",
    "    name.append(x.screen_name)\n",
    "    nama = len(x.screen_name)\n",
    "    e.append(nama)\n",
    "    \n",
    "    created = x.created_at\n",
    "    today = datetime.datetime.today()\n",
    "    delta = today - created\n",
    "    d.append(delta.days)\n",
    "    \n",
    "    a.append(x.statuses_count)\n",
    "    b.append(x.followers_count)\n",
    "    c.append(x.friends_count)\n",
    "    f.append(x.favourites_count)\n",
    "    g.append(x.listed_count)\n",
    "    h.append(x.verified)\n",
    "    \n",
    "    #Aver_tweets_per_day pembagian antara Total_of_tweets dan Age_of_user.\n",
    "    avg1=x.statuses_count/delta.days\n",
    "    ratatweet.append(avg1)\n",
    "    \n",
    "    #Aver_favou_per_day pembagian antara No_of_followers dan Age_of_user.\n",
    "    avg2= x.followers_count/delta.days\n",
    "    ratalike.append(avg2)"
   ]
  },
  {
   "cell_type": "code",
   "execution_count": 8,
   "metadata": {},
   "outputs": [
    {
     "data": {
      "text/html": [
       "<div>\n",
       "<style scoped>\n",
       "    .dataframe tbody tr th:only-of-type {\n",
       "        vertical-align: middle;\n",
       "    }\n",
       "\n",
       "    .dataframe tbody tr th {\n",
       "        vertical-align: top;\n",
       "    }\n",
       "\n",
       "    .dataframe thead th {\n",
       "        text-align: right;\n",
       "    }\n",
       "</style>\n",
       "<table border=\"1\" class=\"dataframe\">\n",
       "  <thead>\n",
       "    <tr style=\"text-align: right;\">\n",
       "      <th></th>\n",
       "      <th>Username</th>\n",
       "      <th>Total_of_tweets</th>\n",
       "      <th>No_of_followers</th>\n",
       "      <th>No_of_followees</th>\n",
       "      <th>Age_of_user</th>\n",
       "      <th>No_of_favorite</th>\n",
       "      <th>No_groups_user</th>\n",
       "      <th>Aver_favou_per_day</th>\n",
       "      <th>Aver_tweets_per_day</th>\n",
       "      <th>User_name_len</th>\n",
       "      <th>Verified</th>\n",
       "    </tr>\n",
       "  </thead>\n",
       "  <tbody>\n",
       "    <tr>\n",
       "      <th>0</th>\n",
       "      <td>fahmiindomie</td>\n",
       "      <td>316</td>\n",
       "      <td>32</td>\n",
       "      <td>67</td>\n",
       "      <td>927</td>\n",
       "      <td>245</td>\n",
       "      <td>0</td>\n",
       "      <td>0.034520</td>\n",
       "      <td>0.340885</td>\n",
       "      <td>12</td>\n",
       "      <td>NaN</td>\n",
       "    </tr>\n",
       "    <tr>\n",
       "      <th>1</th>\n",
       "      <td>ReyhanKim</td>\n",
       "      <td>129</td>\n",
       "      <td>96</td>\n",
       "      <td>178</td>\n",
       "      <td>2915</td>\n",
       "      <td>50</td>\n",
       "      <td>0</td>\n",
       "      <td>0.032933</td>\n",
       "      <td>0.044254</td>\n",
       "      <td>9</td>\n",
       "      <td>NaN</td>\n",
       "    </tr>\n",
       "    <tr>\n",
       "      <th>2</th>\n",
       "      <td>oalahdancuk</td>\n",
       "      <td>2068</td>\n",
       "      <td>168</td>\n",
       "      <td>154</td>\n",
       "      <td>3116</td>\n",
       "      <td>1050</td>\n",
       "      <td>0</td>\n",
       "      <td>0.053915</td>\n",
       "      <td>0.663671</td>\n",
       "      <td>11</td>\n",
       "      <td>NaN</td>\n",
       "    </tr>\n",
       "    <tr>\n",
       "      <th>3</th>\n",
       "      <td>bhrdn88</td>\n",
       "      <td>137</td>\n",
       "      <td>55</td>\n",
       "      <td>76</td>\n",
       "      <td>322</td>\n",
       "      <td>82</td>\n",
       "      <td>0</td>\n",
       "      <td>0.170807</td>\n",
       "      <td>0.425466</td>\n",
       "      <td>7</td>\n",
       "      <td>NaN</td>\n",
       "    </tr>\n",
       "    <tr>\n",
       "      <th>4</th>\n",
       "      <td>DFGimnastian</td>\n",
       "      <td>670</td>\n",
       "      <td>99</td>\n",
       "      <td>145</td>\n",
       "      <td>1506</td>\n",
       "      <td>353</td>\n",
       "      <td>0</td>\n",
       "      <td>0.065737</td>\n",
       "      <td>0.444887</td>\n",
       "      <td>12</td>\n",
       "      <td>NaN</td>\n",
       "    </tr>\n",
       "    <tr>\n",
       "      <th>5</th>\n",
       "      <td>wickyweird</td>\n",
       "      <td>490</td>\n",
       "      <td>33</td>\n",
       "      <td>62</td>\n",
       "      <td>503</td>\n",
       "      <td>340</td>\n",
       "      <td>0</td>\n",
       "      <td>0.065606</td>\n",
       "      <td>0.974155</td>\n",
       "      <td>10</td>\n",
       "      <td>NaN</td>\n",
       "    </tr>\n",
       "    <tr>\n",
       "      <th>6</th>\n",
       "      <td>Mymumulyaa</td>\n",
       "      <td>1920</td>\n",
       "      <td>93</td>\n",
       "      <td>428</td>\n",
       "      <td>2433</td>\n",
       "      <td>12279</td>\n",
       "      <td>0</td>\n",
       "      <td>0.038224</td>\n",
       "      <td>0.789149</td>\n",
       "      <td>10</td>\n",
       "      <td>NaN</td>\n",
       "    </tr>\n",
       "    <tr>\n",
       "      <th>7</th>\n",
       "      <td>aldoharp</td>\n",
       "      <td>6</td>\n",
       "      <td>17</td>\n",
       "      <td>51</td>\n",
       "      <td>2284</td>\n",
       "      <td>4</td>\n",
       "      <td>0</td>\n",
       "      <td>0.007443</td>\n",
       "      <td>0.002627</td>\n",
       "      <td>8</td>\n",
       "      <td>NaN</td>\n",
       "    </tr>\n",
       "    <tr>\n",
       "      <th>8</th>\n",
       "      <td>alifiabelqiss</td>\n",
       "      <td>7084</td>\n",
       "      <td>523</td>\n",
       "      <td>139</td>\n",
       "      <td>3109</td>\n",
       "      <td>236</td>\n",
       "      <td>0</td>\n",
       "      <td>0.168221</td>\n",
       "      <td>2.278546</td>\n",
       "      <td>13</td>\n",
       "      <td>NaN</td>\n",
       "    </tr>\n",
       "    <tr>\n",
       "      <th>9</th>\n",
       "      <td>jovitanrv</td>\n",
       "      <td>22935</td>\n",
       "      <td>371</td>\n",
       "      <td>207</td>\n",
       "      <td>2861</td>\n",
       "      <td>174</td>\n",
       "      <td>1</td>\n",
       "      <td>0.129675</td>\n",
       "      <td>8.016428</td>\n",
       "      <td>9</td>\n",
       "      <td>NaN</td>\n",
       "    </tr>\n",
       "  </tbody>\n",
       "</table>\n",
       "</div>"
      ],
      "text/plain": [
       "        Username  Total_of_tweets  No_of_followers  No_of_followees  \\\n",
       "0   fahmiindomie              316               32               67   \n",
       "1      ReyhanKim              129               96              178   \n",
       "2    oalahdancuk             2068              168              154   \n",
       "3        bhrdn88              137               55               76   \n",
       "4   DFGimnastian              670               99              145   \n",
       "5     wickyweird              490               33               62   \n",
       "6     Mymumulyaa             1920               93              428   \n",
       "7       aldoharp                6               17               51   \n",
       "8  alifiabelqiss             7084              523              139   \n",
       "9      jovitanrv            22935              371              207   \n",
       "\n",
       "   Age_of_user  No_of_favorite  No_groups_user  Aver_favou_per_day  \\\n",
       "0          927             245               0            0.034520   \n",
       "1         2915              50               0            0.032933   \n",
       "2         3116            1050               0            0.053915   \n",
       "3          322              82               0            0.170807   \n",
       "4         1506             353               0            0.065737   \n",
       "5          503             340               0            0.065606   \n",
       "6         2433           12279               0            0.038224   \n",
       "7         2284               4               0            0.007443   \n",
       "8         3109             236               0            0.168221   \n",
       "9         2861             174               1            0.129675   \n",
       "\n",
       "   Aver_tweets_per_day  User_name_len Verified  \n",
       "0             0.340885             12      NaN  \n",
       "1             0.044254              9      NaN  \n",
       "2             0.663671             11      NaN  \n",
       "3             0.425466              7      NaN  \n",
       "4             0.444887             12      NaN  \n",
       "5             0.974155             10      NaN  \n",
       "6             0.789149             10      NaN  \n",
       "7             0.002627              8      NaN  \n",
       "8             2.278546             13      NaN  \n",
       "9             8.016428              9      NaN  "
      ]
     },
     "execution_count": 8,
     "metadata": {},
     "output_type": "execute_result"
    }
   ],
   "source": [
    "data = {\"Username\":name, \"Total_of_tweets\":a, \"No_of_followers\":b, \"No_of_followees\":c,\n",
    "       \"Age_of_user\":d, \"No_of_favorite\":f, \"No_groups_user\":g, \"Aver_favou_per_day\":ratalike, \"Aver_tweets_per_day\":ratatweet,\n",
    "       \"User_name_len\":e, \"verified\":h}\n",
    "df = pd.DataFrame(data,columns=kolom)\n",
    "df"
   ]
  },
  {
   "cell_type": "code",
   "execution_count": 9,
   "metadata": {},
   "outputs": [
    {
     "name": "stdout",
     "output_type": "stream",
     "text": [
      "2021-03-08 14:20:57 1368929737775616002 Kanjeng Sultan RT @fullmoonfolks: Mantap @LBH_Jakarta 🍻🍻 https://t.co/fFfPeyskLs\n",
      "2021-03-08 14:20:34 1368929639574335492 하루 | D-548 🐻 Wait no I smile 😭😭😭 banjir balikkkkk halahhhh 😭😭😭\n",
      "2021-03-08 14:20:23 1368929594401693699 Adiva. mixlr.com/tagefm Akun Alois seperti saat Mark Lee membuka akun ig. Belum 24 jam udah banjir followers. 😅\n",
      "2021-03-08 14:20:09 1368929535983448064 PЦЯЦПΛЯΛDΛ @KunAntonim81 @kkmanti @JrUcing @barryallen_1st @roses_man @karjomblo Singaparna banjir teu?\n",
      "2021-03-08 14:20:08 1368929533269737472 #SΣT 🐣 spoty radio bener2 ya. abis afraid dia muter memories..makin banjir https://t.co/C9bPO3ZpvP\n",
      "2021-03-08 14:19:53 1368929470111830021 widy✨ @ririshoran gapernah sepi, macet, banjir, tapi gampang kalo mau kemana-mana, beli apa aja ada (kayanya)\n",
      "2021-03-08 14:19:52 1368929462822211584 syaaa Women's day hubs bawa makan eightmiles burger banjir 🤤\n",
      "2021-03-08 14:19:38 1368929406131998727 arsen @minghaose daripada make lagu sampang banjir pole\n",
      "2021-03-08 14:19:32 1368929380676763648 mbekkk @mipanzuw block d banjir bandang\n",
      "2021-03-08 14:19:08 1368929280692949000 diAdi™ RT @trimo_manut: seko mulai korban banjir sampek korban tsunami, cuma korban janji seng angel di evakuasi\n"
     ]
    }
   ],
   "source": [
    "find_keyword = \"banjir\"\n",
    "for tweet in tweepy.Cursor(api.search, q=find_keyword, count=10, lang=\"id\", since=\"2021-03-08\", until=\"2021-03-09\").items(10):\n",
    "    print(tweet.created_at, tweet.id, tweet.user.name, tweet.text)"
   ]
  },
  {
   "cell_type": "code",
   "execution_count": 16,
   "metadata": {},
   "outputs": [],
   "source": [
    "cari_location = \"-6.90389,107.61861,4mi\""
   ]
  },
  {
   "cell_type": "code",
   "execution_count": 17,
   "metadata": {},
   "outputs": [
    {
     "name": "stdout",
     "output_type": "stream",
     "text": [
      "2021-03-08 14:21:36 1368929901949022210 Mang rum @ow__syth HAH?? DI ROAST APAAAN !!!!!\n",
      "2021-03-08 14:21:36 1368929901613445121 Cecep Muhammad Ridwan Cina lebih keren lagi, memakai dalih koruptor untuk menghukum mati para lawan politik Xi Jinping. \n",
      "\n",
      "Kalo di Indoku,… https://t.co/PxOSyvGM1U\n",
      "2021-03-08 14:21:36 1368929901122711560 Yudi RT @ferdiknd: Raja Ghosting https://t.co/9Q9W3IotUG\n",
      "2021-03-08 14:21:34 1368929891270324228 P a p a I z a y @cacamaricahyhy_ Bisa bisanya\n",
      "2021-03-08 14:21:32 1368929884869849093 Pikiran Rakyat Hadiri KLB Deli Serdang hingga Terima Uang dari Nazaruddin, DPP Demokrat Pastikan Gerald Masih Jadi Kader https://t.co/wEM6CRz9MS\n",
      "2021-03-08 14:21:31 1368929879136202757 Zulfahida salsabilla RT @chae_kura: Staffs ngelewatin Minjoo pas mo ngasih jaket. \n",
      "minjoo: aku belum. ✋😧\n",
      "izone: 😅minjoo lagi..LAGI~! 🤣\n",
      "chaeyeon: Penonton.. Semu…\n",
      "2021-03-08 14:21:29 1368929870517047299 paw @nabatisyipp beliii\n",
      "2021-03-08 14:21:28 1368929868428103685 lunaa | nyari mutual @hxnebye_ ppiw fb yaa\n",
      "2021-03-08 14:21:28 1368929865555054593 Laurensius hendry @hoodukes Semoga ketangkep pelakunya!! Biadab\n",
      "2021-03-08 14:21:26 1368929860345683969 Deni Utama @ShopeeID Iya nih min, semangat terus semoga beruntung 😁\n"
     ]
    }
   ],
   "source": [
    "for tweet in tweepy.Cursor(api.search, geocode=cari_location, count=10, lang=\"id\", since=\"2021-03-08\", until=\"2021-03-09\").items(10):\n",
    "    print(tweet.created_at, tweet.id, tweet.user.name, tweet.text)"
   ]
  },
  {
   "cell_type": "code",
   "execution_count": null,
   "metadata": {},
   "outputs": [],
   "source": []
  }
 ],
 "metadata": {
  "kernelspec": {
   "display_name": "Python 3",
   "language": "python",
   "name": "python3"
  },
  "language_info": {
   "codemirror_mode": {
    "name": "ipython",
    "version": 3
   },
   "file_extension": ".py",
   "mimetype": "text/x-python",
   "name": "python",
   "nbconvert_exporter": "python",
   "pygments_lexer": "ipython3",
   "version": "3.7.9"
  }
 },
 "nbformat": 4,
 "nbformat_minor": 4
}
